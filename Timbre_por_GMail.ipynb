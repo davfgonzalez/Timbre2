{
  "nbformat": 4,
  "nbformat_minor": 0,
  "metadata": {
    "colab": {
      "provenance": [],
      "authorship_tag": "ABX9TyPZlQyot12geW+KbAUgNwjq",
      "include_colab_link": true
    },
    "kernelspec": {
      "name": "python3",
      "display_name": "Python 3"
    },
    "language_info": {
      "name": "python"
    }
  },
  "cells": [
    {
      "cell_type": "markdown",
      "metadata": {
        "id": "view-in-github",
        "colab_type": "text"
      },
      "source": [
        "<a href=\"https://colab.research.google.com/github/davfgonzalez/Timbre2/blob/main/Timbre_por_GMail.ipynb\" target=\"_parent\"><img src=\"https://colab.research.google.com/assets/colab-badge.svg\" alt=\"Open In Colab\"/></a>"
      ]
    },
    {
      "cell_type": "code",
      "source": [
        "import smtplib\n",
        "from email.mime.text import MIMEText\n",
        "from email.mime.multipart import MIMEMultipart\n",
        "\n",
        "USER_MAIL = \"davfgonzalez@gmail.com\"\n",
        "PASSWORD = \"wbpe uchs frcw efvn\"\n",
        "\n",
        "usuario = \"timbre\"\n",
        "asunto = \"sonar\"\n",
        "destinatarios = ['david87sl@gmail.com', 'lauritavent@gmail.com','3415095570@sms.movistar.net.ar','1158272990@personal-net.com.ar']\n",
        "mensaje =\"sono sono\"\n",
        "\n",
        "msg = MIMEMultipart()\n",
        "msg['From'] = usuario\n",
        "msg['Subject'] = asunto\n",
        "msg['To'] = ', '.join(destinatarios)\n",
        "msg.attach(MIMEText(mensaje))\n",
        "\n",
        "with smtplib.SMTP('smtp.gmail.com', 587) as server:\n",
        "    server.starttls()\n",
        "    server.login(USER_MAIL, PASSWORD)\n",
        "    server.sendmail(USER_MAIL, destinatarios, msg.as_string())\n",
        "    print(f'timbre tocado.')"
      ],
      "metadata": {
        "colab": {
          "base_uri": "https://localhost:8080/"
        },
        "id": "vV6QrSd2a4I-",
        "outputId": "0108e288-66c6-47dc-9b43-610bd3045d91"
      },
      "execution_count": 24,
      "outputs": [
        {
          "output_type": "stream",
          "name": "stdout",
          "text": [
            "timbre tocado.\n"
          ]
        }
      ]
    }
  ]
}